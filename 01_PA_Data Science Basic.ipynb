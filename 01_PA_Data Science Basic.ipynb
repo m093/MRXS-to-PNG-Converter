{
  "cells": [
    {
      "cell_type": "markdown",
      "metadata": {
        "id": "cBbjibUoIDKm"
      },
      "source": [
        "# Programming Assignment: Data Science Basics"
      ]
    },
    {
      "cell_type": "markdown",
      "metadata": {
        "id": "aa-gjg3QIDKs"
      },
      "source": [
        "In this programming assignment you need to apply your new `numpy`, `pandas` and `matplotlib` knowledge. You will need to do several [`groupby`](https://pandas.pydata.org/pandas-docs/stable/generated/pandas.DataFrame.groupby.html)s and [`join`](https://pandas.pydata.org/pandas-docs/stable/generated/pandas.DataFrame.join.html)`s to solve the task."
      ]
    },
    {
      "cell_type": "code",
      "execution_count": 2,
      "metadata": {
        "id": "sHkWBWWDIDKt"
      },
      "outputs": [],
      "source": [
        "# Import Packages\n",
        "import pandas as pd\n",
        "import numpy as np\n",
        "import os\n",
        "import matplotlib.pyplot as plt\n",
        "%matplotlib inline"
      ]
    },
    {
      "cell_type": "markdown",
      "metadata": {
        "id": "2Ix_jvKHIDKv"
      },
      "source": [
        "Pandas allows you to load the required data sets directly from github:"
      ]
    },
    {
      "cell_type": "code",
      "execution_count": 3,
      "metadata": {
        "id": "tP9JXhr6IDKv"
      },
      "outputs": [],
      "source": [
        "# Load Data\n",
        "transactions    = pd.read_csv('https://github.com/NikoStein/pds_data/raw/main/data/sales_train.csv.gz')\n",
        "items           = pd.read_csv('https://github.com/NikoStein/pds_data/raw/main/data/items.csv')\n",
        "item_categories = pd.read_csv('https://github.com/NikoStein/pds_data/raw/main/data/item_categories.csv')"
      ]
    },
    {
      "cell_type": "markdown",
      "metadata": {
        "id": "AcOiym_4IDKw"
      },
      "source": [
        "## Get to know the data\n",
        "Print the **shape** of the loaded dataframes and use [`df.head`](https://pandas.pydata.org/pandas-docs/stable/generated/pandas.DataFrame.head.html) function to print several rows. Examine the features you are given."
      ]
    },
    {
      "cell_type": "code",
      "execution_count": 21,
      "metadata": {
        "colab": {
          "base_uri": "https://localhost:8080/"
        },
        "id": "YgKuZsMHIDKw",
        "outputId": "382dac17-e984-4a89-d4ab-b97fa636db61"
      },
      "outputs": [
        {
          "output_type": "stream",
          "name": "stdout",
          "text": [
            "---------------------------------------------------------------------------------------------------------------------\n",
            "(2935849, 6)\n",
            "         date  date_block_num  shop_id  item_id  item_price  item_cnt_day\n",
            "0  02.01.2013               0       59    22154      999.00           1.0\n",
            "1  03.01.2013               0       25     2552      899.00           1.0\n",
            "2  05.01.2013               0       25     2552      899.00          -1.0\n",
            "3  06.01.2013               0       25     2554     1709.05           1.0\n",
            "4  15.01.2013               0       25     2555     1099.00           1.0\n",
            "\n",
            "\n",
            "---------------------------------------------------------------------------------------------------------------------\n",
            "(22170, 3)\n",
            "                                           item_name  item_id  \\\n",
            "0          ! ВО ВЛАСТИ НАВАЖДЕНИЯ (ПЛАСТ.)         D        0   \n",
            "1  !ABBYY FineReader 12 Professional Edition Full...        1   \n",
            "2      ***В ЛУЧАХ СЛАВЫ   (UNV)                    D        2   \n",
            "3    ***ГОЛУБАЯ ВОЛНА  (Univ)                      D        3   \n",
            "4        ***КОРОБКА (СТЕКЛО)                       D        4   \n",
            "\n",
            "   item_category_id  \n",
            "0                40  \n",
            "1                76  \n",
            "2                40  \n",
            "3                40  \n",
            "4                40  \n",
            "\n",
            "\n",
            "---------------------------------------------------------------------------------------------------------------------\n",
            "(84, 2)\n",
            "        item_category_name  item_category_id\n",
            "0  PC - Гарнитуры/Наушники                 0\n",
            "1         Аксессуары - PS2                 1\n",
            "2         Аксессуары - PS3                 2\n",
            "3         Аксессуары - PS4                 3\n",
            "4         Аксессуары - PSP                 4\n",
            "\n",
            "\n"
          ]
        }
      ],
      "source": [
        "for df in [transactions, items, item_categories]:\n",
        "    print('---------------------------------------------------------------------------------------------------------------------')\n",
        "    print(df.shape)\n",
        "    print(df.head(5))\n",
        "    print('\\n')"
      ]
    },
    {
      "cell_type": "markdown",
      "metadata": {
        "id": "K8r1KKyoIDKx"
      },
      "source": [
        "## Maximum total revenue among all the shops\n",
        "\n",
        "Now use your `pandas` skills to get answers for the following questions.\n",
        "The first question is:\n",
        "\n",
        "What was the maximum total revenue among all the shops in July, 2013?\n",
        "\n",
        "* Hereinafter *revenue* refers to total sales minus value of goods returned.\n",
        "\n",
        "*Hints:*\n",
        "\n",
        "* Sometimes items are returned, find such examples in the dataset.\n",
        "* It is handy to split `date` field into [`day`, `month`, `year`] components and use `df.year == 13` and `df.month == 6` in order to select target subset of dates.\n",
        "* You may work with `date` feature as with strings, or you may first convert it to `pd.datetime` type with `pd.to_datetime` function, but do not forget to set correct `format` argument."
      ]
    },
    {
      "cell_type": "code",
      "execution_count": 24,
      "metadata": {
        "id": "LW7Yyub5IDKx"
      },
      "outputs": [],
      "source": [
        "df = transactions\n",
        "df['pd_date'] = pd.to_datetime(df['date'], format='%d.%m.%Y')\n",
        "df['day'] = df['pd_date'].dt.day\n",
        "df['month'] = df['pd_date'].dt.month\n",
        "df['year'] = df['pd_date'].dt.year\n",
        "df['revenue'] = df['item_cnt_day'] * df['item_price']"
      ]
    },
    {
      "cell_type": "code",
      "source": [
        "df_filtered = df[(df.year == 2013) & (df.month == 7)]\n",
        "revenues = df_filtered.groupby('shop_id').revenue.sum()\n",
        "print(revenues.head())"
      ],
      "metadata": {
        "colab": {
          "base_uri": "https://localhost:8080/"
        },
        "id": "mz4O46PkKjQx",
        "outputId": "fbdb00cd-3303-449a-8d39-f5cf3848ffa9"
      },
      "execution_count": 25,
      "outputs": [
        {
          "output_type": "stream",
          "name": "stdout",
          "text": [
            "shop_id\n",
            "2     863872.0\n",
            "3     542030.0\n",
            "4     975920.0\n",
            "5     665764.0\n",
            "6    2111443.0\n",
            "Name: revenue, dtype: float64\n"
          ]
        }
      ]
    },
    {
      "cell_type": "code",
      "execution_count": 29,
      "metadata": {
        "colab": {
          "base_uri": "https://localhost:8080/"
        },
        "id": "ceW_rXOZIDKy",
        "outputId": "f743b533-2cfd-4d5d-a19a-b05a8c21d429"
      },
      "outputs": [
        {
          "output_type": "execute_result",
          "data": {
            "text/plain": [
              "4886087.749999942"
            ]
          },
          "metadata": {},
          "execution_count": 29
        }
      ],
      "source": [
        "# Save the final value in this variable\n",
        "max_revenue = revenues.max()\n",
        "max_revenue"
      ]
    },
    {
      "cell_type": "markdown",
      "metadata": {
        "id": "djZbKoejIDKy"
      },
      "source": [
        "In addition we can find the index (shop id) of the row with the max value in the column using ```idxmax()```"
      ]
    },
    {
      "cell_type": "code",
      "execution_count": 30,
      "metadata": {
        "colab": {
          "base_uri": "https://localhost:8080/"
        },
        "id": "dQSeQ11LIDKz",
        "outputId": "2aab4b59-9324-4c2c-d84f-590928224201"
      },
      "outputs": [
        {
          "output_type": "execute_result",
          "data": {
            "text/plain": [
              "np.int64(31)"
            ]
          },
          "metadata": {},
          "execution_count": 30
        }
      ],
      "source": [
        "revenues.idxmax()"
      ]
    },
    {
      "cell_type": "markdown",
      "metadata": {
        "id": "RGHU5RNiIDKz"
      },
      "source": [
        "## Constant price\n",
        "\n",
        "How many items are there, such that their price stays constant (to the best of our knowledge) during the whole period of time?\n",
        "\n",
        "* Let's assume, that the items are returned for the same price as they had been sold."
      ]
    },
    {
      "cell_type": "code",
      "execution_count": 32,
      "metadata": {
        "colab": {
          "base_uri": "https://localhost:8080/"
        },
        "id": "alYzkI5NIDKz",
        "outputId": "da891810-a7b1-402c-b8d9-e1d6eef71a38"
      },
      "outputs": [
        {
          "output_type": "execute_result",
          "data": {
            "text/plain": [
              "np.int64(5926)"
            ]
          },
          "metadata": {},
          "execution_count": 32
        }
      ],
      "source": [
        "num_items_constant_price = np.sum(transactions.groupby('item_id').item_price.nunique() == 1)\n",
        "num_items_constant_price"
      ]
    },
    {
      "cell_type": "markdown",
      "metadata": {
        "id": "lPV_tsovIDK0"
      },
      "source": [
        "## Variance of sold items per day\n",
        "\n",
        "What was the variance of the number of sold items per day sequence for the shop with `shop_id = 25` in December, 2014?\n",
        "\n",
        "* Do not count the items that were sold but returned back later.\n",
        "* Fill `total_num_items_sold`: An (ordered) array that contains the total number of items sold on each day\n",
        "* Then compute variance of the of `total_num_items_sold`\n",
        "* If there were no sales at a given day, ***do not*** impute missing value with zero, just ignore that day"
      ]
    },
    {
      "cell_type": "code",
      "execution_count": 34,
      "metadata": {
        "id": "9j--h5krIDK0"
      },
      "outputs": [],
      "source": [
        "shop_id = 25\n",
        "\n",
        "df_filtered = df[(df.shop_id == shop_id) & (df.year == 2014) & (df.month == 12) & (df.item_cnt_day >0)].sort_values(by='pd_date')"
      ]
    },
    {
      "cell_type": "code",
      "execution_count": 36,
      "metadata": {
        "colab": {
          "base_uri": "https://localhost:8080/",
          "height": 1000
        },
        "id": "PLvNm5SzIDK0",
        "outputId": "aa339fcc-07ca-42af-9f77-982b22d40c32"
      },
      "outputs": [
        {
          "output_type": "execute_result",
          "data": {
            "text/plain": [
              "pd_date\n",
              "2014-12-01     153.0\n",
              "2014-12-02     169.0\n",
              "2014-12-03     195.0\n",
              "2014-12-04     164.0\n",
              "2014-12-05     300.0\n",
              "2014-12-06     353.0\n",
              "2014-12-07     326.0\n",
              "2014-12-08     209.0\n",
              "2014-12-09     204.0\n",
              "2014-12-10     143.0\n",
              "2014-12-11     214.0\n",
              "2014-12-12     297.0\n",
              "2014-12-13     432.0\n",
              "2014-12-14     306.0\n",
              "2014-12-15     225.0\n",
              "2014-12-16     192.0\n",
              "2014-12-17     285.0\n",
              "2014-12-18     326.0\n",
              "2014-12-19     418.0\n",
              "2014-12-20     579.0\n",
              "2014-12-21     381.0\n",
              "2014-12-22     318.0\n",
              "2014-12-23     371.0\n",
              "2014-12-24     434.0\n",
              "2014-12-25     506.0\n",
              "2014-12-26     620.0\n",
              "2014-12-27     746.0\n",
              "2014-12-28     662.0\n",
              "2014-12-30    1966.0\n",
              "2014-12-31     776.0\n",
              "Name: item_cnt_day, dtype: float64"
            ],
            "text/html": [
              "<div>\n",
              "<style scoped>\n",
              "    .dataframe tbody tr th:only-of-type {\n",
              "        vertical-align: middle;\n",
              "    }\n",
              "\n",
              "    .dataframe tbody tr th {\n",
              "        vertical-align: top;\n",
              "    }\n",
              "\n",
              "    .dataframe thead th {\n",
              "        text-align: right;\n",
              "    }\n",
              "</style>\n",
              "<table border=\"1\" class=\"dataframe\">\n",
              "  <thead>\n",
              "    <tr style=\"text-align: right;\">\n",
              "      <th></th>\n",
              "      <th>item_cnt_day</th>\n",
              "    </tr>\n",
              "    <tr>\n",
              "      <th>pd_date</th>\n",
              "      <th></th>\n",
              "    </tr>\n",
              "  </thead>\n",
              "  <tbody>\n",
              "    <tr>\n",
              "      <th>2014-12-01</th>\n",
              "      <td>153.0</td>\n",
              "    </tr>\n",
              "    <tr>\n",
              "      <th>2014-12-02</th>\n",
              "      <td>169.0</td>\n",
              "    </tr>\n",
              "    <tr>\n",
              "      <th>2014-12-03</th>\n",
              "      <td>195.0</td>\n",
              "    </tr>\n",
              "    <tr>\n",
              "      <th>2014-12-04</th>\n",
              "      <td>164.0</td>\n",
              "    </tr>\n",
              "    <tr>\n",
              "      <th>2014-12-05</th>\n",
              "      <td>300.0</td>\n",
              "    </tr>\n",
              "    <tr>\n",
              "      <th>2014-12-06</th>\n",
              "      <td>353.0</td>\n",
              "    </tr>\n",
              "    <tr>\n",
              "      <th>2014-12-07</th>\n",
              "      <td>326.0</td>\n",
              "    </tr>\n",
              "    <tr>\n",
              "      <th>2014-12-08</th>\n",
              "      <td>209.0</td>\n",
              "    </tr>\n",
              "    <tr>\n",
              "      <th>2014-12-09</th>\n",
              "      <td>204.0</td>\n",
              "    </tr>\n",
              "    <tr>\n",
              "      <th>2014-12-10</th>\n",
              "      <td>143.0</td>\n",
              "    </tr>\n",
              "    <tr>\n",
              "      <th>2014-12-11</th>\n",
              "      <td>214.0</td>\n",
              "    </tr>\n",
              "    <tr>\n",
              "      <th>2014-12-12</th>\n",
              "      <td>297.0</td>\n",
              "    </tr>\n",
              "    <tr>\n",
              "      <th>2014-12-13</th>\n",
              "      <td>432.0</td>\n",
              "    </tr>\n",
              "    <tr>\n",
              "      <th>2014-12-14</th>\n",
              "      <td>306.0</td>\n",
              "    </tr>\n",
              "    <tr>\n",
              "      <th>2014-12-15</th>\n",
              "      <td>225.0</td>\n",
              "    </tr>\n",
              "    <tr>\n",
              "      <th>2014-12-16</th>\n",
              "      <td>192.0</td>\n",
              "    </tr>\n",
              "    <tr>\n",
              "      <th>2014-12-17</th>\n",
              "      <td>285.0</td>\n",
              "    </tr>\n",
              "    <tr>\n",
              "      <th>2014-12-18</th>\n",
              "      <td>326.0</td>\n",
              "    </tr>\n",
              "    <tr>\n",
              "      <th>2014-12-19</th>\n",
              "      <td>418.0</td>\n",
              "    </tr>\n",
              "    <tr>\n",
              "      <th>2014-12-20</th>\n",
              "      <td>579.0</td>\n",
              "    </tr>\n",
              "    <tr>\n",
              "      <th>2014-12-21</th>\n",
              "      <td>381.0</td>\n",
              "    </tr>\n",
              "    <tr>\n",
              "      <th>2014-12-22</th>\n",
              "      <td>318.0</td>\n",
              "    </tr>\n",
              "    <tr>\n",
              "      <th>2014-12-23</th>\n",
              "      <td>371.0</td>\n",
              "    </tr>\n",
              "    <tr>\n",
              "      <th>2014-12-24</th>\n",
              "      <td>434.0</td>\n",
              "    </tr>\n",
              "    <tr>\n",
              "      <th>2014-12-25</th>\n",
              "      <td>506.0</td>\n",
              "    </tr>\n",
              "    <tr>\n",
              "      <th>2014-12-26</th>\n",
              "      <td>620.0</td>\n",
              "    </tr>\n",
              "    <tr>\n",
              "      <th>2014-12-27</th>\n",
              "      <td>746.0</td>\n",
              "    </tr>\n",
              "    <tr>\n",
              "      <th>2014-12-28</th>\n",
              "      <td>662.0</td>\n",
              "    </tr>\n",
              "    <tr>\n",
              "      <th>2014-12-30</th>\n",
              "      <td>1966.0</td>\n",
              "    </tr>\n",
              "    <tr>\n",
              "      <th>2014-12-31</th>\n",
              "      <td>776.0</td>\n",
              "    </tr>\n",
              "  </tbody>\n",
              "</table>\n",
              "</div><br><label><b>dtype:</b> float64</label>"
            ]
          },
          "metadata": {},
          "execution_count": 36
        }
      ],
      "source": [
        "total_num_items_sold = df_filtered.groupby('pd_date').item_cnt_day.sum()\n",
        "total_num_items_sold"
      ]
    },
    {
      "cell_type": "code",
      "execution_count": 39,
      "metadata": {
        "colab": {
          "base_uri": "https://localhost:8080/"
        },
        "id": "c9HkfnyDIDK1",
        "outputId": "38e1b309-9c9e-4a6d-cacc-f23544555d41"
      },
      "outputs": [
        {
          "output_type": "execute_result",
          "data": {
            "text/plain": [
              "117211.10344827586"
            ]
          },
          "metadata": {},
          "execution_count": 39
        }
      ],
      "source": [
        "# Save the final value in this variable\n",
        "total_num_items_sold_var = total_num_items_sold.var()\n",
        "total_num_items_sold_var"
      ]
    },
    {
      "cell_type": "markdown",
      "metadata": {
        "id": "EU8ya_OAIDK1"
      },
      "source": [
        "## Visualization of the daily revenue\n",
        "\n",
        "Use `total_num_items_sold` to plot the daily revenue of `shop_id = 25` in December, 2014.\n",
        "\n",
        "* y-label: 'Num items'\n",
        "* x-label: 'Day'\n",
        "* plot-title: 'Daily revenue for shop_id = 25'\n",
        "* use plt.show() to display the plot in the end"
      ]
    },
    {
      "cell_type": "code",
      "execution_count": 40,
      "metadata": {
        "colab": {
          "base_uri": "https://localhost:8080/",
          "height": 524
        },
        "id": "P88Vq3lDIDK1",
        "outputId": "7cb7c16a-95b6-4a44-ca97-8b22ba87d823"
      },
      "outputs": [
        {
          "output_type": "display_data",
          "data": {
            "text/plain": [
              "<Figure size 640x480 with 1 Axes>"
            ],
            "image/png": "[encoded data removed]"
          },
          "metadata": {}
        }
      ],
      "source": [
        "plt.plot(total_num_items_sold)\n",
        "plt.xlabel('Day')\n",
        "plt.xticks(rotation=45)\n",
        "plt.ylabel('Num Items')\n",
        "plt.title(\"Daily sold items for shop_id = {}\".format(shop_id))\n",
        "plt.show()\n"
      ]
    },
    {
      "cell_type": "markdown",
      "metadata": {
        "id": "ytV8R2kjIDK1"
      },
      "source": [
        "## Final submission\n",
        "Only for the submission (do not change the code)."
      ]
    },
    {
      "cell_type": "code",
      "execution_count": 41,
      "metadata": {
        "colab": {
          "base_uri": "https://localhost:8080/"
        },
        "id": "VltTGgxjIDK1",
        "outputId": "0124a2b2-a5c7-4d26-f61d-5f83ef04c214"
      },
      "outputs": [
        {
          "output_type": "stream",
          "name": "stdout",
          "text": [
            "maximum Revenue:  4886087.749999942\n",
            "Number of items with constant price:  5926\n",
            "Sold Items per day:  pd_date\n",
            "2014-12-01     153.0\n",
            "2014-12-02     169.0\n",
            "2014-12-03     195.0\n",
            "2014-12-04     164.0\n",
            "2014-12-05     300.0\n",
            "2014-12-06     353.0\n",
            "2014-12-07     326.0\n",
            "2014-12-08     209.0\n",
            "2014-12-09     204.0\n",
            "2014-12-10     143.0\n",
            "2014-12-11     214.0\n",
            "2014-12-12     297.0\n",
            "2014-12-13     432.0\n",
            "2014-12-14     306.0\n",
            "2014-12-15     225.0\n",
            "2014-12-16     192.0\n",
            "2014-12-17     285.0\n",
            "2014-12-18     326.0\n",
            "2014-12-19     418.0\n",
            "2014-12-20     579.0\n",
            "2014-12-21     381.0\n",
            "2014-12-22     318.0\n",
            "2014-12-23     371.0\n",
            "2014-12-24     434.0\n",
            "2014-12-25     506.0\n",
            "2014-12-26     620.0\n",
            "2014-12-27     746.0\n",
            "2014-12-28     662.0\n",
            "2014-12-30    1966.0\n",
            "2014-12-31     776.0\n",
            "Name: item_cnt_day, dtype: float64\n",
            "Variance:  117211.10344827586\n"
          ]
        }
      ],
      "source": [
        "print(\"maximum Revenue: \",max_revenue)\n",
        "print(\"Number of items with constant price: \",num_items_constant_price)\n",
        "print(\"Sold Items per day: \",total_num_items_sold)\n",
        "print(\"Variance: \",total_num_items_sold_var)"
      ]
    },
    {
      "cell_type": "markdown",
      "metadata": {
        "id": "W0mhf3R3IDK2"
      },
      "source": [
        "## Bonus\n",
        "\n",
        "What item category that generated the highest revenue in spring 2014?</b></li>\n",
        "\n",
        "* Submit the `id` of the category found.\n",
        "    \n",
        "* Here, spring is the period from March to May."
      ]
    },
    {
      "cell_type": "code",
      "execution_count": 42,
      "metadata": {
        "id": "LW-9u5L0IDK2"
      },
      "outputs": [],
      "source": [
        "df_bonus = pd.merge(df[(df.year == 2014) & (df.month < 6) & (df.month > 2)], items)"
      ]
    },
    {
      "cell_type": "code",
      "execution_count": 43,
      "metadata": {
        "id": "6KnhInXyIDK2"
      },
      "outputs": [],
      "source": [
        "# Save the final value in this variable\n",
        "category_id_with_max_revenue = df_bonus.groupby('item_category_id').revenue.sum().idxmax()"
      ]
    },
    {
      "cell_type": "code",
      "execution_count": 44,
      "metadata": {
        "colab": {
          "base_uri": "https://localhost:8080/"
        },
        "id": "KZogyFhGIDK3",
        "outputId": "940fdb77-b158-4c61-d0ac-f6a6cb8da2de"
      },
      "outputs": [
        {
          "output_type": "stream",
          "name": "stdout",
          "text": [
            "20\n"
          ]
        }
      ],
      "source": [
        "print(category_id_with_max_revenue)"
      ]
    },
    {
      "cell_type": "code",
      "source": [
        "df_bonus.groupby('item_category_id').revenue.sum().loc[20]"
      ],
      "metadata": {
        "colab": {
          "base_uri": "https://localhost:8080/"
        },
        "id": "OygxcYqYL9q-",
        "outputId": "a2189f8a-86e1-4bff-9b8c-7c3c1b68badd"
      },
      "execution_count": 45,
      "outputs": [
        {
          "output_type": "execute_result",
          "data": {
            "text/plain": [
              "np.float64(33755407.40999937)"
            ]
          },
          "metadata": {},
          "execution_count": 45
        }
      ]
    }
  ],
  "metadata": {
    "kernelspec": {
      "display_name": "Python 3",
      "language": "python",
      "name": "python3"
    },
    "language_info": {
      "codemirror_mode": {
        "name": "ipython",
        "version": 3
      },
      "file_extension": ".py",
      "mimetype": "text/x-python",
      "name": "python",
      "nbconvert_exporter": "python",
      "pygments_lexer": "ipython3",
      "version": "3.7.9"
    },
    "toc": {
      "base_numbering": "1",
      "nav_menu": {},
      "number_sections": true,
      "sideBar": true,
      "skip_h1_title": false,
      "title_cell": "Table of Contents",
      "title_sidebar": "Contents",
      "toc_cell": false,
      "toc_position": {
        "height": "calc(100% - 180px)",
        "left": "10px",
        "top": "150px",
        "width": "261.0714416503906px"
      },
      "toc_section_display": true,
      "toc_window_display": true
    },
    "colab": {
      "provenance": []
    }
  },
  "nbformat": 4,
  "nbformat_minor": 0
}